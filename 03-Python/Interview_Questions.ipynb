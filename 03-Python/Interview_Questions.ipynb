{
 "metadata": {
  "language_info": {
   "codemirror_mode": {
    "name": "ipython",
    "version": 3
   },
   "file_extension": ".py",
   "mimetype": "text/x-python",
   "name": "python",
   "nbconvert_exporter": "python",
   "pygments_lexer": "ipython3",
   "version": "3.8.6"
  },
  "orig_nbformat": 4,
  "kernelspec": {
   "name": "python3",
   "display_name": "Python 3.8.6 64-bit ('base-ds-env': conda)"
  },
  "interpreter": {
   "hash": "a0a31d72b0085f5c980b68e1210f459b51e3b6afa7d30eb3c393753e3e66f30a"
  }
 },
 "nbformat": 4,
 "nbformat_minor": 2,
 "cells": [
  {
   "source": [
    "# Python interview questions"
   ],
   "cell_type": "markdown",
   "metadata": {}
  },
  {
   "source": [
    "## What are the different data structures present in Python?"
   ],
   "cell_type": "markdown",
   "metadata": {}
  },
  {
   "source": [
    "There are following data structures present:\n",
    "- Strings\n",
    "- Lists\n",
    "- Sets\n",
    "- Tuples\n",
    "- Dictionaries"
   ],
   "cell_type": "markdown",
   "metadata": {}
  },
  {
   "source": [
    "## Out of these data structures, which are mutable and which are immutable?"
   ],
   "cell_type": "markdown",
   "metadata": {}
  },
  {
   "source": [
    "Mutable data structures are the ones whose contents can be changed after its declared, whereas, immutable data structures are those where contents cannot be altered after its declared.\n",
    "\n",
    "Mutable data structures:\n",
    "- Lists\n",
    "- Sets\n",
    "- Dictionaries\n",
    "\n",
    "Immutable data structures:\n",
    "- Tuples\n",
    "- Strings"
   ],
   "cell_type": "markdown",
   "metadata": {}
  },
  {
   "source": [
    "## What is the difference between a list and a tuple?"
   ],
   "cell_type": "markdown",
   "metadata": {}
  },
  {
   "source": [
    "Following are the major differences:\n",
    "- List is *mutable* data structures, while tuple is _immutable_ data structure,\n",
    "- Tuples are fixed length while list length can be changed,\n",
    "- Tuple can be used as keys in dictionaries."
   ],
   "cell_type": "markdown",
   "metadata": {}
  },
  {
   "source": [
    "## What are the dictionaries in Python? How can the keys be accessed?"
   ],
   "cell_type": "markdown",
   "metadata": {}
  },
  {
   "source": [
    "Dictionary in Python is a data structure which is a collection of key-value pairs. It is represented within curly braces. {}. For example: \n",
    "\n",
    "To access keys from dictionary, we can use `.keys()` method."
   ],
   "cell_type": "markdown",
   "metadata": {}
  },
  {
   "cell_type": "code",
   "execution_count": 9,
   "metadata": {},
   "outputs": [
    {
     "output_type": "stream",
     "name": "stdout",
     "text": [
      "{'size': 10, 'color': 'white'}\ndict_keys(['size', 'color'])\n"
     ]
    }
   ],
   "source": [
    "# New dictionary\n",
    "item = {'size':10, 'color': 'white'}\n",
    "print(item)\n",
    "print(item.keys())"
   ]
  },
  {
   "source": [
    "## What are comprehensions in Python?"
   ],
   "cell_type": "markdown",
   "metadata": {}
  },
  {
   "source": [
    "List/Dictionary comprehension provides a concise way to create list or other data structures."
   ],
   "cell_type": "markdown",
   "metadata": {}
  },
  {
   "cell_type": "code",
   "execution_count": 12,
   "metadata": {},
   "outputs": [
    {
     "output_type": "stream",
     "name": "stdout",
     "text": [
      "[1, 4, 9, 16, 25, 36, 49, 64, 81, 100]\n[1, 4, 9, 16, 25, 36, 49, 64, 81, 100]\n"
     ]
    }
   ],
   "source": [
    "n = 10\n",
    "\n",
    "# Get squares of first n integers\n",
    "squares = []\n",
    "for i in range(1, n+1):\n",
    "  squares.append(i**2)\n",
    "print(squares)\n",
    "\n",
    "# List comprehension way\n",
    "squares = [i**2 for i in range(1, n+1)]\n",
    "print(squares)"
   ]
  },
  {
   "source": [
    "## What is negative indexing in Python and how is it used?"
   ],
   "cell_type": "markdown",
   "metadata": {}
  },
  {
   "source": [
    "In python, we can access elements from lists using Indexing. Postive Indexing gives elements from start in the sequence, while Negative Indexing gives elements from last in the sequence."
   ],
   "cell_type": "markdown",
   "metadata": {}
  },
  {
   "cell_type": "code",
   "execution_count": 18,
   "metadata": {},
   "outputs": [
    {
     "output_type": "stream",
     "name": "stdout",
     "text": [
      "items:  [10, 20, 30, 40, 50]\nPostive indexing:  l[ 0]=10, l[ 3]=40\nNegative indexing: l[-1]=50, l[-2]=40\n"
     ]
    }
   ],
   "source": [
    "l = [10, 20, 30, 40, 50]\n",
    "print('items: ',l)\n",
    "\n",
    "# Postive indexing\n",
    "print('Postive indexing:  l[ 0]={}, l[ 3]={}'.format(l[0], l[3]))\n",
    "\n",
    "# Negative indexing\n",
    "print('Negative indexing: l[-1]={}, l[-2]={}'.format(l[-1], l[-2]))"
   ]
  },
  {
   "source": [
    "## How can we generate random numbers in python?"
   ],
   "cell_type": "markdown",
   "metadata": {}
  },
  {
   "cell_type": "code",
   "execution_count": 1,
   "metadata": {},
   "outputs": [],
   "source": [
    "import random"
   ]
  },
  {
   "cell_type": "code",
   "execution_count": 2,
   "metadata": {},
   "outputs": [
    {
     "output_type": "execute_result",
     "data": {
      "text/plain": [
       "0.23883697470668952"
      ]
     },
     "metadata": {},
     "execution_count": 2
    }
   ],
   "source": [
    "# Method 1: random() => generates a random floating number [0, 1)\n",
    "random.random()"
   ]
  },
  {
   "cell_type": "code",
   "execution_count": 3,
   "metadata": {},
   "outputs": [
    {
     "output_type": "execute_result",
     "data": {
      "text/plain": [
       "2"
      ]
     },
     "metadata": {},
     "execution_count": 3
    }
   ],
   "source": [
    "# Method 2: randint(a,b) => generates a random integer number between [a, b] includes a and b. \n",
    "random.randint(1, 10)"
   ]
  },
  {
   "cell_type": "code",
   "execution_count": 4,
   "metadata": {},
   "outputs": [
    {
     "output_type": "stream",
     "name": "stdout",
     "text": [
      "6\n6\n"
     ]
    }
   ],
   "source": [
    "# Method 3: randrange(start, stop = None, step=None) => generates a random integer between [a, b, {step}) This fixes randint by not including {stop}. \n",
    "print(random.randrange(1, 10))\n",
    "print(random.randrange(0, 10, 2))"
   ]
  },
  {
   "cell_type": "code",
   "execution_count": 5,
   "metadata": {},
   "outputs": [
    {
     "output_type": "execute_result",
     "data": {
      "text/plain": [
       "19"
      ]
     },
     "metadata": {},
     "execution_count": 5
    }
   ],
   "source": [
    "# Method 4: choice(sequence) => This randomly choose from an iterable Sequence\n",
    "choices = range(20)\n",
    "random.choice(choices)"
   ]
  },
  {
   "cell_type": "code",
   "execution_count": 6,
   "metadata": {},
   "outputs": [
    {
     "output_type": "execute_result",
     "data": {
      "text/plain": [
       "[18, 6, 9, 14, 19]"
      ]
     },
     "metadata": {},
     "execution_count": 6
    }
   ],
   "source": [
    "# Method 5: choices(Sequence, ..., k) => This gives more than 1 choice from given sequence specified by {k}.\n",
    "random.choices(choices, k=5)"
   ]
  },
  {
   "cell_type": "code",
   "execution_count": 7,
   "metadata": {},
   "outputs": [
    {
     "output_type": "execute_result",
     "data": {
      "text/plain": [
       "1.9624137998287416"
      ]
     },
     "metadata": {},
     "execution_count": 7
    }
   ],
   "source": [
    "# Method 6: uniform(a, b) => This generates random floating number from normal distribution between a and b\n",
    "random.uniform(1, 10)"
   ]
  },
  {
   "cell_type": "code",
   "execution_count": 8,
   "metadata": {},
   "outputs": [
    {
     "output_type": "execute_result",
     "data": {
      "text/plain": [
       "-0.7247185036015191"
      ]
     },
     "metadata": {},
     "execution_count": 8
    }
   ],
   "source": [
    "# Method 7: normalvariate(mu, sigma) => This generates random floating number with specified Mean(mu) and Standard Deviation(sigma)\n",
    "random.normalvariate(0, 1)"
   ]
  },
  {
   "source": [
    "## When do we use list vs tuple vs set?"
   ],
   "cell_type": "markdown",
   "metadata": {}
  },
  {
   "source": [
    "- list: This can be used to store elements where we intend to change items, size, etc. in the Sequence.\n",
    "- tuple: This can be used to store elements where we don't intend to change items, size. in the Sequence. Ex. To store a record, use tuple as a key in dictionary, etc.\n",
    "- set: This can be used to store elements where we don't need duplicate items and order doesn't matter."
   ],
   "cell_type": "markdown",
   "metadata": {}
  },
  {
   "source": [
    "## What are lambda functions and how are they used?"
   ],
   "cell_type": "markdown",
   "metadata": {}
  },
  {
   "source": [
    "Lambda functions are single expression anonymous functions. These can be used if we have single line definition and it doesn't need return statement."
   ],
   "cell_type": "markdown",
   "metadata": {}
  },
  {
   "cell_type": "code",
   "execution_count": 19,
   "metadata": {},
   "outputs": [
    {
     "output_type": "stream",
     "name": "stdout",
     "text": [
      "100\n100\n"
     ]
    }
   ],
   "source": [
    "# traditional function\n",
    "def square(x):\n",
    "    return x**2\n",
    "print(square(10))\n",
    "\n",
    "# lambda function\n",
    "f = lambda x: x**2\n",
    "print(f(10))"
   ]
  },
  {
   "source": [
    "## What are global and local variables?"
   ],
   "cell_type": "markdown",
   "metadata": {}
  },
  {
   "source": [
    "When a variable is assigned outside a function scope, then it is global variable. If a variable is assigned inside function scope, then it is a local variable."
   ],
   "cell_type": "markdown",
   "metadata": {}
  },
  {
   "cell_type": "code",
   "execution_count": 20,
   "metadata": {},
   "outputs": [
    {
     "output_type": "stream",
     "name": "stdout",
     "text": [
      "10\n5\n10\n"
     ]
    }
   ],
   "source": [
    "x = 10\n",
    "\n",
    "def func():\n",
    "    x = 5\n",
    "    print(x)\n",
    "\n",
    "print(x)\n",
    "func()\n",
    "print(x)"
   ]
  },
  {
   "source": [
    "## What are the advantages of Numpy arrays over Python lists?"
   ],
   "cell_type": "markdown",
   "metadata": {}
  },
  {
   "source": [
    "- Numpy arrays are significantly faster than Python lists as Numpy is directly built on top of C.\n",
    "- Python lists do not allow vectorised operations like Numpy arrays. You cannot perform vectorised operations on individual elements of list."
   ],
   "cell_type": "markdown",
   "metadata": {}
  },
  {
   "cell_type": "code",
   "execution_count": null,
   "metadata": {},
   "outputs": [],
   "source": []
  }
 ]
}